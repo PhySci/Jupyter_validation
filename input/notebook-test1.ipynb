{
 "cells": [
  {
   "cell_type": "markdown",
   "id": "56eecbcb-76ad-4608-af2d-a60af3a63365",
   "metadata": {},
   "source": [
    "# First test notebook\n",
    "\n",
    "Lets import some unknown library "
   ]
  },
  {
   "cell_type": "code",
   "execution_count": 1,
   "id": "0e2af0b3-622a-414b-ad53-329f55a3fded",
   "metadata": {},
   "outputs": [
    {
     "ename": "ModuleNotFoundError",
     "evalue": "No module named 'pan'",
     "output_type": "error",
     "traceback": [
      "\u001b[0;31m---------------------------------------------------------------------------\u001b[0m",
      "\u001b[0;31mModuleNotFoundError\u001b[0m                       Traceback (most recent call last)",
      "\u001b[0;32m/tmp/ipykernel_116638/1798607371.py\u001b[0m in \u001b[0;36m<module>\u001b[0;34m\u001b[0m\n\u001b[0;32m----> 1\u001b[0;31m \u001b[0;32mimport\u001b[0m \u001b[0mpan\u001b[0m \u001b[0;32mas\u001b[0m \u001b[0mp\u001b[0m\u001b[0;34m\u001b[0m\u001b[0;34m\u001b[0m\u001b[0m\n\u001b[0m",
      "\u001b[0;31mModuleNotFoundError\u001b[0m: No module named 'pan'"
     ]
    }
   ],
   "source": [
    "import pan as p"
   ]
  },
  {
   "cell_type": "code",
   "execution_count": null,
   "id": "273956f6-8324-4a5b-8a68-a2dd20e9bfd8",
   "metadata": {},
   "outputs": [],
   "source": []
  }
 ],
 "metadata": {
  "kernelspec": {
   "display_name": "general-ds",
   "language": "python",
   "name": "general-ds"
  },
  "language_info": {
   "codemirror_mode": {
    "name": "ipython",
    "version": 3
   },
   "file_extension": ".py",
   "mimetype": "text/x-python",
   "name": "python",
   "nbconvert_exporter": "python",
   "pygments_lexer": "ipython3",
   "version": "3.8.10"
  }
 },
 "nbformat": 4,
 "nbformat_minor": 5
}
